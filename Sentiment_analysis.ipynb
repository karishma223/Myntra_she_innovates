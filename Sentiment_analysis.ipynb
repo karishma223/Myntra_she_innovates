{
 "cells": [
  {
   "cell_type": "code",
   "execution_count": 1,
   "id": "c846d0b1",
   "metadata": {},
   "outputs": [
    {
     "name": "stderr",
     "output_type": "stream",
     "text": [
      "[nltk_data] Downloading package stopwords to\n",
      "[nltk_data]     C:\\Users\\amish\\AppData\\Roaming\\nltk_data...\n",
      "[nltk_data]   Package stopwords is already up-to-date!\n",
      "[nltk_data] Downloading package punkt to\n",
      "[nltk_data]     C:\\Users\\amish\\AppData\\Roaming\\nltk_data...\n",
      "[nltk_data]   Package punkt is already up-to-date!\n"
     ]
    },
    {
     "data": {
      "text/plain": [
       "True"
      ]
     },
     "execution_count": 1,
     "metadata": {},
     "output_type": "execute_result"
    }
   ],
   "source": [
    "import nltk\n",
    "nltk.download('stopwords')\n",
    "nltk.download('punkt')\n"
   ]
  },
  {
   "cell_type": "code",
   "execution_count": 2,
   "id": "d84ffaa9",
   "metadata": {},
   "outputs": [
    {
     "name": "stdout",
     "output_type": "stream",
     "text": [
      "Labeled data saved to labelled_comments_train.xlsx\n"
     ]
    }
   ],
   "source": [
    "import pandas as pd\n",
    "import numpy as np\n",
    "import re\n",
    "import os\n",
    "import emoji\n",
    "import joblib\n",
    "from nltk.corpus import stopwords\n",
    "from nltk.tokenize import word_tokenize\n",
    "from sklearn.model_selection import train_test_split, GridSearchCV\n",
    "from sklearn.ensemble import AdaBoostClassifier\n",
    "from sklearn.pipeline import Pipeline\n",
    "from sklearn.feature_extraction.text import CountVectorizer, TfidfTransformer\n",
    "from sklearn.metrics import classification_report, confusion_matrix\n",
    "import warnings\n",
    "warnings.filterwarnings(\"ignore\", category=UserWarning)\n",
    "\n",
    "\n",
    "\n",
    " #Define the function to label comments\n",
    "def label_comment(comment):\n",
    "    positive_words = [':smiling_face_with_heart-eyes:', ':red_heart:', ':fire:', 'love', 'pretty', 'gorgeous', 'beautiful']\n",
    "    if any(word in comment for word in positive_words):\n",
    "        return 1\n",
    "    return 0\n",
    "\n",
    "# Load the CSV file into a DataFrame with specified delimiter\n",
    "try:\n",
    "    comments_df = pd.read_csv(\"data/posts_comments.csv\", delimiter=(';'))\n",
    "except pd.errors.ParserError as e:\n",
    "    print(f\"Error parsing CSV file: {e}\")\n",
    "    # Handle the error as needed, maybe inspect the file manually\n",
    "\n",
    "# Convert the 'comments' column to string type and handle missing values\n",
    "comments_df['comments'] = comments_df['comments'].astype(str).fillna('')\n",
    "\n",
    "# Apply the labeling function to the comments\n",
    "comments_df['category'] = comments_df['comments'].apply(label_comment)\n",
    "\n",
    "# Create a new DataFrame with the desired column names\n",
    "new_df = comments_df[['id', 'comments', 'category']]\n",
    "\n",
    "# Save the labeled DataFrame to an Excel file\n",
    "output_file_path = 'labelled_comments_train.xlsx'  # replace with your desired output file path\n",
    "new_df.to_excel(output_file_path, index=False)\n",
    "\n",
    "print(f\"Labeled data saved to {output_file_path}\")\n",
    "\n"
   ]
  },
  {
   "cell_type": "code",
   "execution_count": null,
   "id": "17b21a77",
   "metadata": {},
   "outputs": [],
   "source": []
  }
 ],
 "metadata": {
  "kernelspec": {
   "display_name": "Python 3 (ipykernel)",
   "language": "python",
   "name": "python3"
  },
  "language_info": {
   "codemirror_mode": {
    "name": "ipython",
    "version": 3
   },
   "file_extension": ".py",
   "mimetype": "text/x-python",
   "name": "python",
   "nbconvert_exporter": "python",
   "pygments_lexer": "ipython3",
   "version": "3.10.7"
  }
 },
 "nbformat": 4,
 "nbformat_minor": 5
}
